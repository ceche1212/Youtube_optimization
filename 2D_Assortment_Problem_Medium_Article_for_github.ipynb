{
  "nbformat": 4,
  "nbformat_minor": 0,
  "metadata": {
    "colab": {
      "provenance": [],
      "toc_visible": true
    },
    "kernelspec": {
      "name": "python3",
      "display_name": "Python 3"
    },
    "language_info": {
      "name": "python"
    }
  },
  "cells": [
    {
      "cell_type": "markdown",
      "source": [
        "# Libraries"
      ],
      "metadata": {
        "id": "jiuMCmbME-iT"
      }
    },
    {
      "cell_type": "code",
      "execution_count": null,
      "metadata": {
        "id": "MEXrGA_DDPjD"
      },
      "outputs": [],
      "source": [
        "!pip install gurobipy"
      ]
    },
    {
      "cell_type": "code",
      "source": [
        "import pandas as pd\n",
        "import numpy as np\n",
        "import matplotlib.pyplot as plt\n",
        "from matplotlib.patches import Rectangle\n",
        "from itertools import chain, combinations, permutations, product\n",
        "import time\n",
        "from tqdm import tqdm\n",
        "import gurobipy as gp\n",
        "from gurobipy import GRB\n",
        "import networkx as nx\n",
        "from copy import deepcopy"
      ],
      "metadata": {
        "id": "kEIM016YVjNg"
      },
      "execution_count": null,
      "outputs": []
    },
    {
      "cell_type": "code",
      "source": [
        "WLSACCESSID = '< Copy your WLSACCESSID here >'\n",
        "WLSSECRET = '< Copy your WLSSECRET here >'\n",
        "LICENSEID = '< Copy your LICENSEID here >'"
      ],
      "metadata": {
        "id": "Yp95nqhCuu4H"
      },
      "execution_count": null,
      "outputs": []
    },
    {
      "cell_type": "code",
      "source": [
        "params = {\n",
        "\"WLSACCESSID\": WLSACCESSID,\n",
        "\"WLSSECRET\": WLSSECRET,\n",
        "\"LICENSEID\": LICENSEID,\n",
        "}\n",
        "env = gp.Env(params=params)"
      ],
      "metadata": {
        "id": "DHTjANMYuwob"
      },
      "execution_count": null,
      "outputs": []
    },
    {
      "cell_type": "markdown",
      "source": [
        "# Data"
      ],
      "metadata": {
        "id": "kgmZCQ4QFSNy"
      }
    },
    {
      "cell_type": "code",
      "source": [
        "widths = [4,1,2,3,2,6,10]\n",
        "heights =[3,1,1,2,4,2,4]\n",
        "quants = [4,10,8,5,2,3,2]"
      ],
      "metadata": {
        "id": "ji-aNSjrjHu6"
      },
      "execution_count": null,
      "outputs": []
    },
    {
      "cell_type": "code",
      "source": [
        "df = pd.DataFrame()\n",
        "df['quantity'] = quants\n",
        "df['heights'] = heights\n",
        "df['widths'] = widths\n",
        "df"
      ],
      "metadata": {
        "id": "s9UNLLJajIO5"
      },
      "execution_count": null,
      "outputs": []
    },
    {
      "cell_type": "code",
      "source": [
        "WIDTHS = []\n",
        "HEIGHTS = []\n",
        "for q,w,h in zip(quants,widths,heights):\n",
        "  for x in range(q):\n",
        "    HEIGHTS.append(w)\n",
        "    WIDTHS.append(h)\n",
        "\n",
        "data_df = pd.DataFrame()\n",
        "data_df['HEIGHTS'] = HEIGHTS\n",
        "data_df['WIDTHS'] = WIDTHS"
      ],
      "metadata": {
        "id": "BoDBo8E3FTAG"
      },
      "execution_count": null,
      "outputs": []
    },
    {
      "cell_type": "code",
      "source": [
        "data_df"
      ],
      "metadata": {
        "id": "krq7c2eqGTku"
      },
      "execution_count": null,
      "outputs": []
    },
    {
      "cell_type": "code",
      "source": [
        "N = len(data_df)\n",
        "N"
      ],
      "metadata": {
        "id": "1Nq-UyC5Ixph"
      },
      "execution_count": null,
      "outputs": []
    },
    {
      "cell_type": "code",
      "source": [
        "top = max(data_df['HEIGHTS'].sum(),data_df['WIDTHS'].sum())"
      ],
      "metadata": {
        "id": "Sc1n6h3iI9Uf"
      },
      "execution_count": null,
      "outputs": []
    },
    {
      "cell_type": "code",
      "source": [
        "M = top"
      ],
      "metadata": {
        "id": "cN6QaJZMKA6E"
      },
      "execution_count": null,
      "outputs": []
    },
    {
      "cell_type": "markdown",
      "source": [
        "# Minimize total Area needed: Rotations allowed"
      ],
      "metadata": {
        "id": "9j0N3gihin22"
      }
    },
    {
      "cell_type": "markdown",
      "source": [
        "The idea is to minimize the total area needed to store all the objects. So there is not going to be a fixed rectangle"
      ],
      "metadata": {
        "id": "-dGoXSRAin22"
      }
    },
    {
      "cell_type": "markdown",
      "source": [
        "Formulation\n",
        "\n",
        "* Variables\n",
        "\n",
        "    1. $x_i, y_i$: Coordinates of the bottom-left corner of rectangle $i$\n",
        "    2. $b_{ij}^k$: Binary variables to handle the \"or\" conditions for non-overlapping constraints ($k \\in \\{1, 2, 3, 4\\}$)\n",
        "    3. $\\overline{x}$, $\\overline{y}$: Maximum **X** and **Y** values\n",
        "    4. $r_i$: Binary variable that handles if item $i$ is rotated or not\n",
        "\n",
        "* Objective Function\n",
        "$$\n",
        "\\text{Minimize} \\quad \\overline{x} \\cdot \\overline{y}\n",
        "$$\n",
        "\n",
        "* Constraints\n",
        "\\begin{align}\n",
        "    & \\overline{x} \\geq x_i + w_ir_i + (1-r_i)h_i \\quad \\forall i \\\\\n",
        "    & \\overline{y} \\geq y_i + h_ir_i + (1-r_i)w_i \\quad \\forall i \\\\\n",
        "    & x_i + w_ir_i + (1-r_i)h_i  \\leq x_j + M \\cdot (1- b_{ij}^1) \\quad \\forall i \\neq j\\\\\n",
        "    & x_j + w_jr_j + (1-r_j)h_j  \\leq x_i + M \\cdot(1- b_{ij}^2) \\quad \\forall i \\neq j\\\\\n",
        "    & y_i + h_ir_i + (1-r_i)w_i  \\leq y_j + M \\cdot(1- b_{ij}^3) \\quad \\forall i \\neq j\\\\\n",
        "    & y_j + h_jr_j + (1-r_j)w_j  \\leq y_i + M \\cdot(1- b_{ij}^4) \\quad \\forall i \\neq j\\\\\n",
        "    & \\sum_{k=1}^{4}b_{ij}^k \\geq 1 \\quad \\forall i \\neq j \\\\\n",
        "    & z_i \\in \\{0, 1\\} \\quad \\forall i \\\\\n",
        "    & b_{ij}^k \\in \\{0, 1\\} \\quad \\forall i \\neq j, \\quad \\forall k \\in \\{1, 2, 3 , 4\\}\n",
        "\\end{align}"
      ],
      "metadata": {
        "id": "hUIj3ZzRin23"
      }
    },
    {
      "cell_type": "code",
      "source": [
        "model = gp.Model(\"Assortment\",env=env)"
      ],
      "metadata": {
        "id": "q0NW-cgUkk0g"
      },
      "execution_count": null,
      "outputs": []
    },
    {
      "cell_type": "markdown",
      "source": [
        "## Variables"
      ],
      "metadata": {
        "id": "sFEOc71ojbdi"
      }
    },
    {
      "cell_type": "code",
      "source": [
        "I = range(N)"
      ],
      "metadata": {
        "id": "kFAyRnfojbdj"
      },
      "execution_count": null,
      "outputs": []
    },
    {
      "cell_type": "code",
      "source": [
        "K = range(4)"
      ],
      "metadata": {
        "id": "vhlPtnXrjbdj"
      },
      "execution_count": null,
      "outputs": []
    },
    {
      "cell_type": "code",
      "source": [
        "x = model.addVars(I,lb = 0,ub = top,vtype=GRB.CONTINUOUS, name=\"x\")\n",
        "y = model.addVars(I,lb = 0,ub = top,vtype=GRB.CONTINUOUS, name=\"y\")"
      ],
      "metadata": {
        "id": "BoWZ6Ljxjbdj"
      },
      "execution_count": null,
      "outputs": []
    },
    {
      "cell_type": "code",
      "source": [
        "R = model.addVars(I,vtype=GRB.BINARY,name = 'R')"
      ],
      "metadata": {
        "id": "LZyuMWbAji8H"
      },
      "execution_count": null,
      "outputs": []
    },
    {
      "cell_type": "code",
      "source": [
        "X = model.addVar(lb=0,ub = top,vtype = GRB.CONTINUOUS,name = \"X\")\n",
        "Y = model.addVar(lb=0,ub = top,vtype = GRB.CONTINUOUS,name = \"Y\")"
      ],
      "metadata": {
        "id": "XVyiMmrajbdj"
      },
      "execution_count": null,
      "outputs": []
    },
    {
      "cell_type": "code",
      "source": [
        "b_vars = [(i,j,k) for i in I for j in I if j!=i for k in K]"
      ],
      "metadata": {
        "id": "jHEg6EZHjbdj"
      },
      "execution_count": null,
      "outputs": []
    },
    {
      "cell_type": "code",
      "source": [
        "B = model.addVars(b_vars,vtype = GRB.BINARY,name = \"B\")"
      ],
      "metadata": {
        "id": "qOxfvwCljbdj"
      },
      "execution_count": null,
      "outputs": []
    },
    {
      "cell_type": "markdown",
      "source": [
        "## Objective function"
      ],
      "metadata": {
        "id": "xAMbT3adjbdk"
      }
    },
    {
      "cell_type": "code",
      "source": [
        "model.setObjective(X*Y,GRB.MINIMIZE);"
      ],
      "metadata": {
        "id": "Lam_R3Pgjbdk"
      },
      "execution_count": null,
      "outputs": []
    },
    {
      "cell_type": "markdown",
      "source": [
        "## Constraints"
      ],
      "metadata": {
        "id": "KUPKpbiajbdk"
      }
    },
    {
      "cell_type": "code",
      "source": [
        "for i in I:\n",
        "\n",
        "  model.addConstr(X >= x[i] + WIDTHS[i]*R[i] + (1-R[i])*HEIGHTS[i])\n",
        "  model.addConstr(Y >= y[i] + HEIGHTS[i]*R[i] + (1-R[i])*WIDTHS[i])"
      ],
      "metadata": {
        "id": "fv_sMbgrjbdk"
      },
      "execution_count": null,
      "outputs": []
    },
    {
      "cell_type": "code",
      "source": [
        "for i in I:\n",
        "  for j in I:\n",
        "    if i == j:\n",
        "      continue\n",
        "    else:\n",
        "      model.addConstr(x[i] + WIDTHS[i]*R[i] + (1-R[i])*HEIGHTS[i] <= x[j] + M*(1-B[i,j,0]))\n",
        "      model.addConstr(x[j] + WIDTHS[j]*R[j] + (1-R[j])*HEIGHTS[j] <= x[i] + M*(1-B[i,j,1]))\n",
        "\n",
        "      model.addConstr(y[i] + HEIGHTS[i]*R[i] + (1-R[i])*WIDTHS[i] <= y[j] + M*(1-B[i,j,2]))\n",
        "      model.addConstr(y[j] + HEIGHTS[j]*R[j] + (1-R[j])*WIDTHS[j] <= y[i] + M*(1-B[i,j,3]))\n",
        "\n",
        "      model.addConstr(B[i,j,0] + B[i,j,1] + B[i,j,2] + B[i,j,3] >= 1)"
      ],
      "metadata": {
        "id": "39ElKgF8jbdk"
      },
      "execution_count": null,
      "outputs": []
    },
    {
      "cell_type": "markdown",
      "source": [
        "# Solving the model"
      ],
      "metadata": {
        "id": "EEtfrwdQjbdl"
      }
    },
    {
      "cell_type": "code",
      "source": [
        "tl = 600\n",
        "mip_gap = 0.05"
      ],
      "metadata": {
        "id": "lmQTIVftjbdl"
      },
      "execution_count": null,
      "outputs": []
    },
    {
      "cell_type": "code",
      "source": [
        "model.setParam('TimeLimit', tl)\n",
        "model.setParam('MIPGap', mip_gap)\n",
        "model.optimize()"
      ],
      "metadata": {
        "id": "I-z3BhsBjbdl"
      },
      "execution_count": null,
      "outputs": []
    },
    {
      "cell_type": "markdown",
      "source": [
        "# Extracting the solution"
      ],
      "metadata": {
        "id": "LS1sOTsAjbdl"
      }
    },
    {
      "cell_type": "code",
      "source": [
        "all_vars = model.getVars()\n",
        "values = model.getAttr(\"X\", all_vars)\n",
        "names = model.getAttr(\"VarName\", all_vars)"
      ],
      "metadata": {
        "id": "DMeQHaAOjbdl"
      },
      "execution_count": null,
      "outputs": []
    },
    {
      "cell_type": "code",
      "source": [
        "obj = round(model.getObjective().getValue(),0)"
      ],
      "metadata": {
        "id": "8Wp9Qfe9jbdm"
      },
      "execution_count": null,
      "outputs": []
    },
    {
      "cell_type": "code",
      "source": [
        "total_X = int(round((X.x),0))\n",
        "total_Y = int(round((Y.x),0))"
      ],
      "metadata": {
        "id": "sfjA4MQzjbdm"
      },
      "execution_count": null,
      "outputs": []
    },
    {
      "cell_type": "code",
      "source": [
        "output_list = []\n",
        "for i in I:\n",
        "\n",
        "  print(f\"item {i} x:{x[i].x}, y:{y[i].x}, Rotated:{R[i].x <= 0.01}\")\n",
        "  row = {'item':i,'x':round(x[i].x,2),'y':round(y[i].x,2),'Rotated':R[i].x <= 0.01}\n",
        "  output_list.append(row)"
      ],
      "metadata": {
        "id": "A_Ldy3Pqjbdm"
      },
      "execution_count": null,
      "outputs": []
    },
    {
      "cell_type": "code",
      "source": [
        "output_df = pd.DataFrame(output_list)\n",
        "output_df.to_csv(\"output_solution.csv\")"
      ],
      "metadata": {
        "id": "yj_95EAMwByK"
      },
      "execution_count": null,
      "outputs": []
    },
    {
      "cell_type": "code",
      "source": [
        "fig, ax = plt.subplots()\n",
        "\n",
        "for item in I:\n",
        "\n",
        "  coords = (x[item].x,y[item].x)\n",
        "\n",
        "  if R[item].x <= 0.01:\n",
        "    wid = HEIGHTS[item]\n",
        "    hig = WIDTHS[item]\n",
        "  else:\n",
        "    wid = WIDTHS[item]\n",
        "    hig = HEIGHTS[item]\n",
        "\n",
        "  ax.add_patch(Rectangle(coords, wid, hig,\n",
        "            edgecolor = 'black',\n",
        "            facecolor = \"Grey\",\n",
        "            fill = True,\n",
        "            alpha = 0.5,\n",
        "            lw=2))\n",
        "ax. set_xlim(0, total_X )\n",
        "ax. set_ylim(0, total_Y )\n",
        "\n",
        "ax.set_xticks(range(total_X+1))\n",
        "ax.set_yticks(range(total_Y+1))\n",
        "ax.grid()\n",
        "ax.set_title(f\" Total area {total_X} x {total_Y} = {int(obj)}\")\n",
        "\n",
        "plt.show()"
      ],
      "metadata": {
        "id": "N4nZsFtWjbdm"
      },
      "execution_count": null,
      "outputs": []
    },
    {
      "cell_type": "markdown",
      "source": [
        "# Heuristic Comparisson"
      ],
      "metadata": {
        "id": "c8nxquD8NeSb"
      }
    },
    {
      "cell_type": "code",
      "source": [
        "class Rectangle_class:\n",
        "    def __init__(self, width, height,index):\n",
        "        self.width = width\n",
        "        self.height = height\n",
        "        self.x = 0\n",
        "        self.y = 0\n",
        "        self.index = index"
      ],
      "metadata": {
        "id": "SNc23HPCNgFZ"
      },
      "execution_count": null,
      "outputs": []
    },
    {
      "cell_type": "markdown",
      "source": [
        "## FFDH: First Fit Decreasing Height (FFDH)\n",
        "\n",
        "This approach sorts rectangles by height and then places each rectangle in the first available position that fits."
      ],
      "metadata": {
        "id": "d86s7fkfRxBm"
      }
    },
    {
      "cell_type": "code",
      "source": [
        "def ffdh(rectangles):\n",
        "    # Sort rectangles by height in descending order\n",
        "    rectangles.sort(key=lambda rect: rect.height, reverse=True)\n",
        "\n",
        "    # Initialize variables to keep track of the positions\n",
        "    current_y = 0\n",
        "    current_x = 0\n",
        "    row_height = 0\n",
        "    total_width = 0\n",
        "\n",
        "    for rect in rectangles:\n",
        "        if current_x + rect.width > total_width:\n",
        "            total_width = current_x + rect.width\n",
        "        # If rectangle fits in the current row\n",
        "        if current_x + rect.width <= total_width:\n",
        "            rect.x = current_x\n",
        "            rect.y = current_y\n",
        "            current_x += rect.width\n",
        "            row_height = max(row_height, rect.height)\n",
        "        else:\n",
        "            # Move to the next row\n",
        "            current_y += row_height\n",
        "            rect.x = 0\n",
        "            rect.y = current_y\n",
        "            current_x = rect.width\n",
        "            row_height = rect.height\n",
        "\n",
        "    total_height = current_y + row_height\n",
        "    return rectangles, total_width, total_height"
      ],
      "metadata": {
        "id": "SFs_e1ZoOqW1"
      },
      "execution_count": null,
      "outputs": []
    },
    {
      "cell_type": "code",
      "source": [
        "rectangles = []"
      ],
      "metadata": {
        "id": "MyzBtyRwN6_D"
      },
      "execution_count": null,
      "outputs": []
    },
    {
      "cell_type": "code",
      "source": [
        "for i in range(len(data_df)):\n",
        "\n",
        "  h,w = data_df.iloc[i,0], data_df.iloc[i,1]\n",
        "  REC = Rectangle_class(w,h,i)\n",
        "  rectangles.append(REC)"
      ],
      "metadata": {
        "id": "jBBnPu-COB1e"
      },
      "execution_count": null,
      "outputs": []
    },
    {
      "cell_type": "code",
      "source": [
        "packed_rectangles, total_width, total_height = ffdh(rectangles)"
      ],
      "metadata": {
        "id": "N7qoOya4OmCG"
      },
      "execution_count": null,
      "outputs": []
    },
    {
      "cell_type": "code",
      "source": [
        "total_X = total_width\n",
        "total_Y = total_height"
      ],
      "metadata": {
        "id": "oDt3nzQ6QWRT"
      },
      "execution_count": null,
      "outputs": []
    },
    {
      "cell_type": "code",
      "source": [
        "obj = total_X*total_Y"
      ],
      "metadata": {
        "id": "A8Xqvt7gQfgw"
      },
      "execution_count": null,
      "outputs": []
    },
    {
      "cell_type": "code",
      "source": [
        "for rect in packed_rectangles:\n",
        "\n",
        "  print(rect.index,rect.x,rect.y,rect.width,rect.height)\n",
        "print(f\"Total Area {total_width} x {total_height} = {obj}\")"
      ],
      "metadata": {
        "id": "kouZF9YeOwF5"
      },
      "execution_count": null,
      "outputs": []
    },
    {
      "cell_type": "code",
      "source": [
        "fig, ax = plt.subplots(figsize=(16, 6))\n",
        "\n",
        "for rect in packed_rectangles:\n",
        "\n",
        "  coords = (rect.x,rect.y)\n",
        "  wid,hig = rect.width,rect.height\n",
        "\n",
        "  ax.add_patch(Rectangle(coords, wid, hig,\n",
        "            edgecolor = 'black',\n",
        "            facecolor = \"Grey\",\n",
        "            fill = True,\n",
        "            alpha = 0.5,\n",
        "            lw=2))\n",
        "ax. set_xlim(0, total_X )\n",
        "ax. set_ylim(0, total_Y )\n",
        "\n",
        "ax.set_xticks(range(total_X+1))\n",
        "ax.set_yticks(range(total_Y+1))\n",
        "ax.grid()\n",
        "ax.set_title(f\" Total area {total_X} x {total_Y} = {int(obj)}\")\n",
        "plt.xticks(rotation=30)\n",
        "plt.show()"
      ],
      "metadata": {
        "id": "P6r7isxiPiSh"
      },
      "execution_count": null,
      "outputs": []
    },
    {
      "cell_type": "markdown",
      "source": [
        "## Shelves Heuristic"
      ],
      "metadata": {
        "id": "8H78cXVER1Xu"
      }
    },
    {
      "cell_type": "code",
      "source": [
        "def shelf_heuristic(rectangles, max_width):\n",
        "    # Sort rectangles by height in descending order\n",
        "    rectangles.sort(key=lambda rect: rect.height, reverse=True)\n",
        "\n",
        "    current_x = 0\n",
        "    current_y = 0\n",
        "    shelf_height = 0\n",
        "\n",
        "    for rect in rectangles:\n",
        "        if current_x + rect.width > max_width:\n",
        "            # Move to a new shelf\n",
        "            current_x = 0\n",
        "            current_y += shelf_height\n",
        "            shelf_height = 0\n",
        "\n",
        "        # Place the rectangle\n",
        "        rect.x = current_x\n",
        "        rect.y = current_y\n",
        "        current_x += rect.width\n",
        "        shelf_height = max(shelf_height, rect.height)\n",
        "\n",
        "    # total_width = max_width\n",
        "    # total_height = current_y + shelf_height\n",
        "\n",
        "    total_width = max([rec.x + rec.width for rec in rectangles])\n",
        "    total_height = max([rec.y + rec.height for rec in rectangles])\n",
        "\n",
        "    return rectangles, total_width, total_height"
      ],
      "metadata": {
        "id": "Tk3L79qsSHIw"
      },
      "execution_count": null,
      "outputs": []
    },
    {
      "cell_type": "code",
      "source": [
        "container_width = 20"
      ],
      "metadata": {
        "id": "tI767SaLSQfW"
      },
      "execution_count": null,
      "outputs": []
    },
    {
      "cell_type": "code",
      "source": [
        "packed_rectangles,total_width, total_height = shelf_heuristic(rectangles, container_width)"
      ],
      "metadata": {
        "id": "PSQ6TBp0SLY7"
      },
      "execution_count": null,
      "outputs": []
    },
    {
      "cell_type": "code",
      "source": [
        "total_X = total_width\n",
        "total_Y = total_height"
      ],
      "metadata": {
        "id": "LpWQxsbJSa06"
      },
      "execution_count": null,
      "outputs": []
    },
    {
      "cell_type": "code",
      "source": [
        "obj = total_X*total_Y"
      ],
      "metadata": {
        "id": "gT2eSGHjSa1B"
      },
      "execution_count": null,
      "outputs": []
    },
    {
      "cell_type": "code",
      "source": [
        "for rect in packed_rectangles:\n",
        "\n",
        "  print(rect.index,rect.x,rect.y,rect.width,rect.height)\n",
        "print(f\"Total Area {total_width} x {total_height} = {obj}\")"
      ],
      "metadata": {
        "id": "iryIBw2qSa1B"
      },
      "execution_count": null,
      "outputs": []
    },
    {
      "cell_type": "code",
      "source": [
        "fig, ax = plt.subplots(figsize=(16, 6))\n",
        "\n",
        "for rect in packed_rectangles:\n",
        "\n",
        "  coords = (rect.x,rect.y)\n",
        "  wid,hig = rect.width,rect.height\n",
        "\n",
        "  ax.add_patch(Rectangle(coords, wid, hig,\n",
        "            edgecolor = 'black',\n",
        "            facecolor = \"Grey\",\n",
        "            fill = True,\n",
        "            alpha = 0.5,\n",
        "            lw=2))\n",
        "ax. set_xlim(0, total_X )\n",
        "ax. set_ylim(0, total_Y )\n",
        "\n",
        "ax.set_xticks(range(total_X+1))\n",
        "ax.set_yticks(range(total_Y+1))\n",
        "ax.grid()\n",
        "ax.set_title(f\" Total area {total_X} x {total_Y} = {int(obj)}\")\n",
        "plt.xticks(rotation=30)\n",
        "plt.show()"
      ],
      "metadata": {
        "id": "wwPIIzXESa1C"
      },
      "execution_count": null,
      "outputs": []
    },
    {
      "cell_type": "markdown",
      "source": [
        "### Optimization problem with warm start from heuristic"
      ],
      "metadata": {
        "id": "H-TJwufpCnh4"
      }
    },
    {
      "cell_type": "code",
      "source": [
        "heuristic_dict = dict()\n",
        "for rect in packed_rectangles:\n",
        "  index = rect.index\n",
        "  heuristic_dict[index] = rect\n",
        "\n",
        "\n",
        "b_values = dict()\n",
        "for i in I:\n",
        "  for j in I:\n",
        "    if i == j:\n",
        "      continue\n",
        "    else:\n",
        "      rect_i = heuristic_dict[i]\n",
        "      rect_j = heuristic_dict[j]\n",
        "      b_values[(i,j,0)] = 0\n",
        "      b_values[(i,j,1)] = 0\n",
        "      b_values[(i,j,2)] = 0\n",
        "      b_values[(i,j,3)] = 0\n",
        "\n",
        "      #print(f\"({i},{j}) --> {rect_i.x} + {rect_i.width} <= {rect_j.x}\")\n",
        "      if rect_i.x + rect_i.width <= rect_j.x:\n",
        "        b_values[(i,j,0)] = 1\n",
        "\n",
        "      #print(f\"({i},{j}) --> {rect_j.x} + {rect_j.width} <= {rect_i.x}\")\n",
        "      if rect_j.x + rect_j.width <= rect_i.x:\n",
        "        b_values[(i,j,1)] = 1\n",
        "\n",
        "      #print(f\"({i},{j}) --> {rect_i.y} + {rect_i.height} <= {rect_j.y}\")\n",
        "      if rect_i.y + rect_i.height <= rect_j.y:\n",
        "\n",
        "        b_values[(i,j,2)] = 1\n",
        "\n",
        "      #print(f\"({i},{j}) --> {rect_j.y} + {rect_j.height} <= {rect_i.y}\")\n",
        "      if rect_j.y + rect_j.height <= rect_i.y:\n",
        "\n",
        "        b_values[(i,j,3)] = 1\n",
        "      #print(b_values[(i,j,0)],b_values[(i,j,1)],b_values[(i,j,2)],b_values[(i,j,3)])\n",
        "      #print(\"-\"*100)"
      ],
      "metadata": {
        "id": "sjjp1d4xAqIe"
      },
      "execution_count": null,
      "outputs": []
    },
    {
      "cell_type": "code",
      "source": [
        "x_dict = dict()\n",
        "y_dict = dict()\n",
        "r_dict = dict()\n",
        "\n",
        "for i in I:\n",
        "\n",
        "  REC = heuristic_dict[i]\n",
        "\n",
        "  x_dict[i] = REC.x\n",
        "  y_dict[i] = REC.y\n",
        "  r_dict[i] = 1"
      ],
      "metadata": {
        "id": "f2qkYsouA3-u"
      },
      "execution_count": null,
      "outputs": []
    },
    {
      "cell_type": "code",
      "source": [
        "model = gp.Model(\"Assortment_warm_start\",env=env)\n",
        "\n",
        "x = model.addVars(I,lb = 0,ub = top,vtype=GRB.CONTINUOUS, name=\"x\")\n",
        "y = model.addVars(I,lb = 0,ub = top,vtype=GRB.CONTINUOUS, name=\"y\")\n",
        "\n",
        "R = model.addVars(I,vtype=GRB.BINARY,name = 'R')\n",
        "\n",
        "X = model.addVar(lb=0,ub = top,vtype = GRB.CONTINUOUS,name = \"X\")\n",
        "Y = model.addVar(lb=0,ub = top,vtype = GRB.CONTINUOUS,name = \"Y\")\n",
        "\n",
        "b_vars = [(i,j,k) for i in I for j in I if j!=i for k in K]\n",
        "B = model.addVars(b_vars,vtype = GRB.BINARY,name = \"B\")\n",
        "\n",
        "model.setObjective(X*Y,GRB.MINIMIZE);\n",
        "\n",
        "for i in I:\n",
        "\n",
        "  model.addConstr(X >= x[i] + WIDTHS[i]*R[i] + (1-R[i])*HEIGHTS[i])\n",
        "  model.addConstr(Y >= y[i] + HEIGHTS[i]*R[i] + (1-R[i])*WIDTHS[i])\n",
        "\n",
        "for i in I:\n",
        "  for j in I:\n",
        "    if i == j:\n",
        "      continue\n",
        "    else:\n",
        "      model.addConstr(x[i] + WIDTHS[i]*R[i] + (1-R[i])*HEIGHTS[i] <= x[j] + M*(1-B[i,j,0]))\n",
        "      model.addConstr(x[j] + WIDTHS[j]*R[j] + (1-R[j])*HEIGHTS[j] <= x[i] + M*(1-B[i,j,1]))\n",
        "\n",
        "      model.addConstr(y[i] + HEIGHTS[i]*R[i] + (1-R[i])*WIDTHS[i] <= y[j] + M*(1-B[i,j,2]))\n",
        "      model.addConstr(y[j] + HEIGHTS[j]*R[j] + (1-R[j])*WIDTHS[j] <= y[i] + M*(1-B[i,j,3]))\n",
        "\n",
        "      model.addConstr(B[i,j,0] + B[i,j,1] + B[i,j,2] + B[i,j,3] >= 1)"
      ],
      "metadata": {
        "id": "kxHO1HdLC3Mt"
      },
      "execution_count": null,
      "outputs": []
    },
    {
      "cell_type": "code",
      "source": [
        "for var in x:\n",
        "  x[var].Start = x_dict[var]\n",
        "  y[var].Start = y_dict[var]\n",
        "\n",
        "  R[var].Start = r_dict[var]"
      ],
      "metadata": {
        "id": "jb3cHVhoC3Mt"
      },
      "execution_count": null,
      "outputs": []
    },
    {
      "cell_type": "code",
      "source": [
        "X.Start = total_X\n",
        "Y.start = total_Y"
      ],
      "metadata": {
        "id": "sb7Lut-lC3Mu"
      },
      "execution_count": null,
      "outputs": []
    },
    {
      "cell_type": "code",
      "source": [
        "for var in B:\n",
        "  B[var] = b_values[var]"
      ],
      "metadata": {
        "id": "SX-O-k0bC3Mu"
      },
      "execution_count": null,
      "outputs": []
    },
    {
      "cell_type": "code",
      "source": [
        "tl = 600\n",
        "mip_gap = 0.05"
      ],
      "metadata": {
        "id": "twk6LRMtC3Mu"
      },
      "execution_count": null,
      "outputs": []
    },
    {
      "cell_type": "code",
      "source": [
        "model.setParam('TimeLimit', tl)\n",
        "model.setParam('MIPGap', mip_gap)\n",
        "model.optimize()"
      ],
      "metadata": {
        "id": "2rXE3YM9EE-f"
      },
      "execution_count": null,
      "outputs": []
    },
    {
      "cell_type": "markdown",
      "source": [
        "## Second pass iterative improvement"
      ],
      "metadata": {
        "id": "sroE7z6xTsRZ"
      }
    },
    {
      "cell_type": "code",
      "source": [
        "def optimize_placement(rectangles, L, H):\n",
        "    for i in range(len(rectangles) - 1, 0, -1):\n",
        "        rect = rectangles[i]\n",
        "        for j in range(i):\n",
        "            target = rectangles[j]\n",
        "            if can_place_on_top(rect, target, rectangles):\n",
        "                new_x = target.x\n",
        "                new_y = target.y + target.height\n",
        "                if new_y + rect.height <= H and new_x + rect.width <= L:\n",
        "                    rect.x = new_x\n",
        "                    rect.y = new_y\n",
        "                    break\n",
        "\n",
        "    total_width = max([rec.x + rec.width for rec in rectangles])\n",
        "    total_height = max([rec.y + rec.height for rec in rectangles])\n",
        "\n",
        "    return rectangles,  total_width, total_height\n",
        "\n",
        "def can_place_on_top(rect, target, rectangles):\n",
        "    new_x = target.x\n",
        "    new_y = target.y + target.height\n",
        "    for other in rectangles:\n",
        "        if other != rect and overlap(rect, new_x, new_y, other):\n",
        "            return False\n",
        "    return True\n",
        "\n",
        "def overlap(rect, new_x, new_y, other):\n",
        "    if (new_x < other.x + other.width and new_x + rect.width > other.x and\n",
        "        new_y < other.y + other.height and new_y + rect.height > other.y):\n",
        "        return True\n",
        "    return False"
      ],
      "metadata": {
        "id": "ungT6fqyTuRF"
      },
      "execution_count": null,
      "outputs": []
    },
    {
      "cell_type": "code",
      "source": [
        "def iterative_shelf(rectangles,verbose = False):\n",
        "\n",
        "  W = sum([rec.width for rec in rectangles])\n",
        "  w = max([rec.width for rec in rectangles])\n",
        "\n",
        "  H = sum([rec.height for rec in rectangles])\n",
        "\n",
        "  best_w = w\n",
        "  best_area = H*W\n",
        "\n",
        "  for w_i in range(w,W+1):\n",
        "    opt_rectangles = deepcopy(rectangles)\n",
        "    packed_rectangles,total_width, total_height = shelf_heuristic(opt_rectangles, w_i)\n",
        "\n",
        "    if verbose:\n",
        "      print(\"First pass\")\n",
        "      print(w_i,total_width, total_height,total_width*total_height)\n",
        "\n",
        "    optimized_rectangles,total_width, total_height = optimize_placement(packed_rectangles,total_width, total_height)\n",
        "\n",
        "    Area = total_width*total_height\n",
        "\n",
        "    if Area < best_area:\n",
        "      best_area = Area\n",
        "      best_w = w_i\n",
        "\n",
        "    if verbose:\n",
        "      print(\"Second pass\")\n",
        "      print(w_i,total_width, total_height,total_width*total_height)\n",
        "      print(\"-\"*100)\n",
        "\n",
        "  if verbose:\n",
        "    print(f\"Best width shelf to choose {best_w}, for an area of { best_area}\")\n",
        "\n",
        "  packed_rectangles,total_width, total_height = shelf_heuristic(rectangles, best_w)\n",
        "  optimized_rectangles,total_width, total_height = optimize_placement(packed_rectangles,total_width, total_height)\n",
        "\n",
        "  return optimized_rectangles,total_width, total_height"
      ],
      "metadata": {
        "id": "7t1luS9hUro-"
      },
      "execution_count": null,
      "outputs": []
    },
    {
      "cell_type": "code",
      "source": [
        "packed_rectangles,total_width, total_height = iterative_shelf(rectangles,True)"
      ],
      "metadata": {
        "id": "i9lBeMIsU6mr"
      },
      "execution_count": null,
      "outputs": []
    },
    {
      "cell_type": "code",
      "source": [
        "total_X = total_width\n",
        "total_Y = total_height"
      ],
      "metadata": {
        "id": "aDR7mV8pVVko"
      },
      "execution_count": null,
      "outputs": []
    },
    {
      "cell_type": "code",
      "source": [
        "obj = total_X*total_Y"
      ],
      "metadata": {
        "id": "PnX4K-YlVVko"
      },
      "execution_count": null,
      "outputs": []
    },
    {
      "cell_type": "code",
      "source": [
        "for rect in packed_rectangles:\n",
        "\n",
        "  print(rect.x,rect.y,rect.width,rect.height)\n",
        "print(f\"Total Area {total_width} x {total_height} = {obj}\")"
      ],
      "metadata": {
        "id": "4Djb_Bq1VVko"
      },
      "execution_count": null,
      "outputs": []
    },
    {
      "cell_type": "code",
      "source": [
        "fig, ax = plt.subplots(figsize=(16, 6))\n",
        "\n",
        "for rect in packed_rectangles:\n",
        "\n",
        "  coords = (rect.x,rect.y)\n",
        "  wid,hig = rect.width,rect.height\n",
        "\n",
        "  ax.add_patch(Rectangle(coords, wid, hig,\n",
        "            edgecolor = 'black',\n",
        "            facecolor = \"Grey\",\n",
        "            fill = True,\n",
        "            alpha = 0.5,\n",
        "            lw=2))\n",
        "ax.set_xlim(0, total_X )\n",
        "ax.set_ylim(0, total_Y )\n",
        "\n",
        "ax.set_xticks(range(total_X+1))\n",
        "ax.set_yticks(range(total_Y+1))\n",
        "ax.grid()\n",
        "ax.set_title(f\" Total area {total_X} x {total_Y} = {int(obj)}\")\n",
        "plt.xticks(rotation=30)\n",
        "plt.show()"
      ],
      "metadata": {
        "id": "WYJG-JKlVVko"
      },
      "execution_count": null,
      "outputs": []
    },
    {
      "cell_type": "code",
      "source": [
        "heuristic_dict = dict()\n",
        "for rect in packed_rectangles:\n",
        "  index = rect.index\n",
        "  heuristic_dict[index] = rect\n",
        "\n",
        "\n",
        "b_values = dict()\n",
        "for i in I:\n",
        "  for j in I:\n",
        "    if i == j:\n",
        "      continue\n",
        "    else:\n",
        "      rect_i = heuristic_dict[i]\n",
        "      rect_j = heuristic_dict[j]\n",
        "      b_values[(i,j,0)] = 0\n",
        "      b_values[(i,j,1)] = 0\n",
        "      b_values[(i,j,2)] = 0\n",
        "      b_values[(i,j,3)] = 0\n",
        "\n",
        "      #print(f\"({i},{j}) --> {rect_i.x} + {rect_i.width} <= {rect_j.x}\")\n",
        "      if rect_i.x + rect_i.width <= rect_j.x:\n",
        "        b_values[(i,j,0)] = 1\n",
        "\n",
        "      #print(f\"({i},{j}) --> {rect_j.x} + {rect_j.width} <= {rect_i.x}\")\n",
        "      if rect_j.x + rect_j.width <= rect_i.x:\n",
        "        b_values[(i,j,1)] = 1\n",
        "\n",
        "      #print(f\"({i},{j}) --> {rect_i.y} + {rect_i.height} <= {rect_j.y}\")\n",
        "      if rect_i.y + rect_i.height <= rect_j.y:\n",
        "\n",
        "        b_values[(i,j,2)] = 1\n",
        "\n",
        "      #print(f\"({i},{j}) --> {rect_j.y} + {rect_j.height} <= {rect_i.y}\")\n",
        "      if rect_j.y + rect_j.height <= rect_i.y:\n",
        "\n",
        "        b_values[(i,j,3)] = 1\n",
        "      #print(b_values[(i,j,0)],b_values[(i,j,1)],b_values[(i,j,2)],b_values[(i,j,3)])\n",
        "      #print(\"-\"*100)"
      ],
      "metadata": {
        "id": "UjxZJEFnLGBR"
      },
      "execution_count": null,
      "outputs": []
    },
    {
      "cell_type": "code",
      "source": [
        "x_dict = dict()\n",
        "y_dict = dict()\n",
        "r_dict = dict()\n",
        "\n",
        "for i in I:\n",
        "\n",
        "  REC = heuristic_dict[i]\n",
        "\n",
        "  x_dict[i] = REC.x\n",
        "  y_dict[i] = REC.y\n",
        "  r_dict[i] = 1"
      ],
      "metadata": {
        "id": "6zqbtBYiLGBS"
      },
      "execution_count": null,
      "outputs": []
    },
    {
      "cell_type": "code",
      "source": [
        "model = gp.Model(\"Assortment_warm_start\",env=env)\n",
        "\n",
        "x = model.addVars(I,lb = 0,ub = top,vtype=GRB.CONTINUOUS, name=\"x\")\n",
        "y = model.addVars(I,lb = 0,ub = top,vtype=GRB.CONTINUOUS, name=\"y\")\n",
        "\n",
        "R = model.addVars(I,vtype=GRB.BINARY,name = 'R')\n",
        "\n",
        "X = model.addVar(lb=0,ub = top,vtype = GRB.CONTINUOUS,name = \"X\")\n",
        "Y = model.addVar(lb=0,ub = top,vtype = GRB.CONTINUOUS,name = \"Y\")\n",
        "\n",
        "b_vars = [(i,j,k) for i in I for j in I if j!=i for k in K]\n",
        "B = model.addVars(b_vars,vtype = GRB.BINARY,name = \"B\")\n",
        "\n",
        "model.setObjective(X*Y,GRB.MINIMIZE);\n",
        "\n",
        "for i in I:\n",
        "\n",
        "  model.addConstr(X >= x[i] + WIDTHS[i]*R[i] + (1-R[i])*HEIGHTS[i])\n",
        "  model.addConstr(Y >= y[i] + HEIGHTS[i]*R[i] + (1-R[i])*WIDTHS[i])\n",
        "\n",
        "for i in I:\n",
        "  for j in I:\n",
        "    if i == j:\n",
        "      continue\n",
        "    else:\n",
        "      model.addConstr(x[i] + WIDTHS[i]*R[i] + (1-R[i])*HEIGHTS[i] <= x[j] + M*(1-B[i,j,0]))\n",
        "      model.addConstr(x[j] + WIDTHS[j]*R[j] + (1-R[j])*HEIGHTS[j] <= x[i] + M*(1-B[i,j,1]))\n",
        "\n",
        "      model.addConstr(y[i] + HEIGHTS[i]*R[i] + (1-R[i])*WIDTHS[i] <= y[j] + M*(1-B[i,j,2]))\n",
        "      model.addConstr(y[j] + HEIGHTS[j]*R[j] + (1-R[j])*WIDTHS[j] <= y[i] + M*(1-B[i,j,3]))\n",
        "\n",
        "      model.addConstr(B[i,j,0] + B[i,j,1] + B[i,j,2] + B[i,j,3] >= 1)"
      ],
      "metadata": {
        "id": "sNUggj4jLGBS"
      },
      "execution_count": null,
      "outputs": []
    },
    {
      "cell_type": "code",
      "source": [
        "for var in x:\n",
        "  x[var].Start = x_dict[var]\n",
        "  y[var].Start = y_dict[var]\n",
        "\n",
        "  R[var].Start = r_dict[var]"
      ],
      "metadata": {
        "id": "YdxDL5WSLGBS"
      },
      "execution_count": null,
      "outputs": []
    },
    {
      "cell_type": "code",
      "source": [
        "X.Start = total_X\n",
        "Y.start = total_Y"
      ],
      "metadata": {
        "id": "z2JTywmGLGBS"
      },
      "execution_count": null,
      "outputs": []
    },
    {
      "cell_type": "code",
      "source": [
        "for var in B:\n",
        "  B[var] = b_values[var]"
      ],
      "metadata": {
        "id": "Jamfl3JSLGBS"
      },
      "execution_count": null,
      "outputs": []
    },
    {
      "cell_type": "code",
      "source": [
        "tl = 600\n",
        "mip_gap = 0.05"
      ],
      "metadata": {
        "id": "mO6Y3uiNLGBT"
      },
      "execution_count": null,
      "outputs": []
    },
    {
      "cell_type": "code",
      "source": [
        "model.setParam('TimeLimit', tl)\n",
        "model.setParam('MIPGap', mip_gap)\n",
        "model.optimize()"
      ],
      "metadata": {
        "id": "0vGyzNKNLGBT"
      },
      "execution_count": null,
      "outputs": []
    }
  ]
}